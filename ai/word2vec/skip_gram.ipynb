{
 "cells": [
  {
   "cell_type": "code",
   "execution_count": 1,
   "metadata": {},
   "outputs": [],
   "source": [
    "import jieba\n",
    "import numpy as np \n",
    "import collections\n",
    "import random"
   ]
  },
  {
   "cell_type": "code",
   "execution_count": 2,
   "metadata": {},
   "outputs": [],
   "source": [
    "def get_ch_lable(txt_file):  \n",
    "    labels= \"\"\n",
    "    print(txt_file)\n",
    "    with open(txt_file, 'rb') as f:\n",
    "        for label in f: \n",
    "            labels =labels+label.decode('utf-8')\n",
    "    return labels"
   ]
  },
  {
   "cell_type": "code",
   "execution_count": 3,
   "metadata": {},
   "outputs": [],
   "source": [
    "def get_split_word(training_data):\n",
    "    seg_list = jieba.cut(training_data)\n",
    "    training_ci = \" \".join(seg_list)\n",
    "    training_ci = training_ci.split()\n",
    "    training_ci = np.array(training_ci)\n",
    "    training_ci = np.reshape(training_ci, [-1, ])\n",
    "    return training_ci"
   ]
  },
  {
   "cell_type": "code",
   "execution_count": 4,
   "metadata": {},
   "outputs": [],
   "source": [
    "def build_dataset(words, top_n):\n",
    "    count = [['UNK', -1]]\n",
    "    count.extend(collections.Counter(words).most_common(top_n - 1))\n",
    "    dictionary = dict()\n",
    "    for word, _ in count:\n",
    "        dictionary[word] = len(dictionary)\n",
    "    data = list()\n",
    "    unk_count = 0\n",
    "    for word in words:\n",
    "        if word in dictionary:\n",
    "            index = dictionary[word]\n",
    "        else:\n",
    "            index = 0  # dictionary['UNK']\n",
    "            unk_count += 1\n",
    "        data.append(index)\n",
    "    count[0][1] = unk_count\n",
    "    reversed_dictionary = dict(zip(dictionary.values(), dictionary.keys()))\n",
    "    return data, count, dictionary, reversed_dictionary"
   ]
  },
  {
   "cell_type": "code",
   "execution_count": 5,
   "metadata": {},
   "outputs": [],
   "source": [
    "data_index = 0"
   ]
  },
  {
   "cell_type": "code",
   "execution_count": 43,
   "metadata": {},
   "outputs": [],
   "source": [
    "def generate_batch(data,batch_size, num_skips, skip_window):\n",
    "    global data_index\n",
    "    assert batch_size % num_skips == 0\n",
    "    assert num_skips <= 2 * skip_window\n",
    "\n",
    "    batch = np.ndarray(shape=(batch_size), dtype=np.int32)\n",
    "    labels = np.ndarray(shape=(batch_size, 1), dtype=np.int32)\n",
    "    span = 2 * skip_window + 1  # [ skip_window target skip_window ]\n",
    "    buffer = collections.deque(maxlen=span)\n",
    "\n",
    "    if data_index + span > len(data):\n",
    "        data_index = 0\n",
    "\n",
    "    buffer.extend(data[data_index : data_index + span])\n",
    "    print(buffer)\n",
    "    data_index += span\n",
    "\n",
    "    for i in range(batch_size // num_skips):\n",
    "        target = skip_window  # target label at the center of the buffer\n",
    "        targets_to_avoid = [skip_window]\n",
    "        for j in range(num_skips):\n",
    "            while target in targets_to_avoid:\n",
    "                target = random.randint(0, span - 1)\n",
    "            targets_to_avoid.append(target)\n",
    "            batch[i * num_skips + j] = buffer[skip_window]\n",
    "            labels[i * num_skips + j, 0] = buffer[target]\n",
    "\n",
    "            buffer.append(data[data_index])\n",
    "            data_index += 1\n",
    "\n",
    "#     data_index = (data_index + len(data) - span) % len(data)\n",
    "    return batch, labels"
   ]
  },
  {
   "cell_type": "code",
   "execution_count": null,
   "metadata": {},
   "outputs": [],
   "source": [
    "def run():\n",
    "    tf.reset_default_graph()\n",
    "\n",
    "    train_inputs = tf.placeholder(tf.int32, shape=[batch_size])\n",
    "    train_labels = tf.placeholder(tf.int32, shape=[batch_size, 1])\n",
    "    valid_dataset = tf.constant(valid_examples, dtype=tf.int32)"
   ]
  },
  {
   "cell_type": "code",
   "execution_count": 50,
   "metadata": {},
   "outputs": [
    {
     "name": "stdout",
     "output_type": "stream",
     "text": [
      "./test.txt\n",
      "Sample data [25, 132, 32, 26, 27, 133, 8, 9, 80, 134] ['人体', '阴阳', '与', '电能', '阴', '应该', '是', '身体', '里', '内在']\n",
      "deque([4, 162, 17], maxlen=3)\n",
      "[162  17   3 163   7  85   9   2]\n",
      "------\n",
      "[[ 17]\n",
      " [162]\n",
      " [163]\n",
      " [  3]\n",
      " [163]\n",
      " [  9]\n",
      " [ 85]\n",
      " [164]]\n",
      "------\n",
      "162 坏 -> 17 了\n",
      "17 了 -> 162 坏\n",
      "3 。 -> 163 对于\n",
      "163 对于 -> 3 。\n",
      "7 运动 -> 163 对于\n",
      "85 对 -> 9 身体\n",
      "9 身体 -> 85 对\n",
      "2 的 -> 164 影响\n",
      "valid_window 175\n"
     ]
    }
   ],
   "source": [
    "if __name__ == \"__main__\":\n",
    "    training_data = get_ch_lable('./test.txt')\n",
    "    jieba_data = get_split_word(training_data)\n",
    "    training_label, count, dictionary, words = build_dataset(jieba_data, 350)\n",
    "    # print(training_label, count, dictionary, words)\n",
    "    words_size = len(dictionary)\n",
    "    print('Sample data', training_label[:10], [words[i] for i in training_label[:10]])\n",
    "    batch, labels = generate_batch(training_label,batch_size=8, num_skips=2, skip_window=1)\n",
    "    print(batch)\n",
    "    print('------')\n",
    "    print(labels)\n",
    "    print('------')\n",
    "    \n",
    "    for i in range(8):# 取第一个字，后一个是标签，再取其前一个字当标签，\n",
    "        print(batch[i], words[batch[i]], '->', labels[i, 0], words[labels[i, 0]])\n",
    "        \n",
    "    batch_size = 128\n",
    "    embedding_size = 128  # Dimension of the embedding vector.\n",
    "    skip_window = 1       # How many words to consider left and right.\n",
    "    num_skips = 2         # How many times to reuse an input to generate a label.\n",
    "\n",
    "    valid_size = 16     # Random set of words to evaluate similarity on.\n",
    "    valid_window =np.int32( words_size/2 ) # Only pick dev samples in the head of the distribution.\n",
    "    print(\"valid_window\",valid_window)\n",
    "    valid_examples = np.random.choice(valid_window, valid_size, replace=False)#0-words_size/2,中的数取16个。不能重复。\n",
    "    num_sampled = 64    # Number of negative examples to sample."
   ]
  },
  {
   "cell_type": "code",
   "execution_count": 46,
   "metadata": {},
   "outputs": [
    {
     "name": "stdout",
     "output_type": "stream",
     "text": [
      "4 就 -> 1 ，\n",
      "16 相当于 -> 50 机器\n",
      "50 机器 -> 16 相当于\n",
      "17 了 -> 3 。\n",
      "3 。 -> 17 了\n",
      "146 举个 -> 147 最\n",
      "147 最 -> 84 简单\n",
      "84 简单 -> 147 最\n"
     ]
    }
   ],
   "source": []
  },
  {
   "cell_type": "code",
   "execution_count": 32,
   "metadata": {},
   "outputs": [
    {
     "name": "stdout",
     "output_type": "stream",
     "text": [
      "成\n"
     ]
    }
   ],
   "source": [
    "print(words[33])"
   ]
  },
  {
   "cell_type": "code",
   "execution_count": null,
   "metadata": {},
   "outputs": [],
   "source": []
  }
 ],
 "metadata": {
  "kernelspec": {
   "display_name": "Python 3",
   "language": "python",
   "name": "python3"
  },
  "language_info": {
   "codemirror_mode": {
    "name": "ipython",
    "version": 3
   },
   "file_extension": ".py",
   "mimetype": "text/x-python",
   "name": "python",
   "nbconvert_exporter": "python",
   "pygments_lexer": "ipython3",
   "version": "3.6.8"
  }
 },
 "nbformat": 4,
 "nbformat_minor": 2
}
